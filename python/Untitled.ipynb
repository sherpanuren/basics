{
 "cells": [
  {
   "cell_type": "code",
   "execution_count": 11,
   "id": "94fcdf95-c998-4be4-8889-28f11497ceaf",
   "metadata": {},
   "outputs": [
    {
     "data": {
      "text/plain": [
       "428"
      ]
     },
     "execution_count": 11,
     "metadata": {},
     "output_type": "execute_result"
    }
   ],
   "source": [
    "nyc_ball = 188\n",
    "bal_pitt = 240\n",
    "total_distance = nyc_ball + bal_pitt\n",
    "total_distance"
   ]
  },
  {
   "cell_type": "code",
   "execution_count": 15,
   "id": "94b9dd2b-6442-4481-9398-7d102c51e0c7",
   "metadata": {},
   "outputs": [
    {
     "data": {
      "text/plain": [
       "8.916666666666666"
      ]
     },
     "execution_count": 15,
     "metadata": {},
     "output_type": "execute_result"
    }
   ],
   "source": [
    "mph = 48\n",
    "time = total_distance/mph\n",
    "time"
   ]
  },
  {
   "cell_type": "code",
   "execution_count": 16,
   "id": "f411614d-15db-4244-bbad-d665b4ab8086",
   "metadata": {},
   "outputs": [
    {
     "data": {
      "text/plain": [
       "8.92"
      ]
     },
     "execution_count": 16,
     "metadata": {},
     "output_type": "execute_result"
    }
   ],
   "source": [
    "round(time, 2)"
   ]
  },
  {
   "cell_type": "code",
   "execution_count": null,
   "id": "3aec5185-09ea-4c67-9f18-ddec04502fd0",
   "metadata": {},
   "outputs": [],
   "source": [
    "text = 'er. nuren'"
   ]
  }
 ],
 "metadata": {
  "kernelspec": {
   "display_name": "Python 3 (ipykernel)",
   "language": "python",
   "name": "python3"
  },
  "language_info": {
   "codemirror_mode": {
    "name": "ipython",
    "version": 3
   },
   "file_extension": ".py",
   "mimetype": "text/x-python",
   "name": "python",
   "nbconvert_exporter": "python",
   "pygments_lexer": "ipython3",
   "version": "3.12.1"
  }
 },
 "nbformat": 4,
 "nbformat_minor": 5
}
